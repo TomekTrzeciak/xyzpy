{
 "cells": [
  {
   "cell_type": "raw",
   "metadata": {
    "raw_mimetype": "text/restructuredtext"
   },
   "source": [
    "===============\n",
    "Generating Data\n",
    "===============\n",
    "\n",
    "The idea of ``xyzpy`` is to ease the some of the pain generating data with a large parameter space.\n",
    "The central aim being that, once you know what a single run of a function looks like, it should be as easy as saying, \"run these combinations of parameters, now run these particular cases\" with everything automatically aggregated into a fully self-described dataset."
   ]
  },
  {
   "cell_type": "code",
   "execution_count": 1,
   "metadata": {},
   "outputs": [],
   "source": [
    "%matplotlib inline\n",
    "from xyzpy import *\n",
    "import numpy as np"
   ]
  },
  {
   "cell_type": "raw",
   "metadata": {
    "raw_mimetype": "text/restructuredtext"
   },
   "source": [
    "Combos & Cases\n",
    "--------------\n",
    "\n",
    "The main backend function is :func:`~xyzpy.combo_runner`, which in its simplest form takes a function, say:"
   ]
  },
  {
   "cell_type": "code",
   "execution_count": 2,
   "metadata": {},
   "outputs": [],
   "source": [
    "def foo(a, b, c):\n",
    "    return a, b, c"
   ]
  },
  {
   "cell_type": "markdown",
   "metadata": {
    "raw_mimetype": "text/restructuredtext"
   },
   "source": [
    "and ``combos`` of the form:"
   ]
  },
  {
   "cell_type": "code",
   "execution_count": 3,
   "metadata": {},
   "outputs": [],
   "source": [
    "combos = [\n",
    "    ('a', [1, 2, 3]),\n",
    "    ('b', ['x', 'y', 'z']),\n",
    "    ('c', [True, False]),\n",
    "]"
   ]
  },
  {
   "cell_type": "markdown",
   "metadata": {},
   "source": [
    "and generates a nested (here 3 dimensional) array of all the outputs of ``foo`` with the ``3 * 3 * 2 = 18`` combinations of input arguments:"
   ]
  },
  {
   "cell_type": "code",
   "execution_count": 4,
   "metadata": {},
   "outputs": [
    {
     "name": "stderr",
     "output_type": "stream",
     "text": [
      "100%|##########| 18/18 [00:00<00:00, 18083.23it/s]\n"
     ]
    },
    {
     "data": {
      "text/plain": [
       "((((1, 'x', True), (1, 'x', False)),\n",
       "  ((1, 'y', True), (1, 'y', False)),\n",
       "  ((1, 'z', True), (1, 'z', False))),\n",
       " (((2, 'x', True), (2, 'x', False)),\n",
       "  ((2, 'y', True), (2, 'y', False)),\n",
       "  ((2, 'z', True), (2, 'z', False))),\n",
       " (((3, 'x', True), (3, 'x', False)),\n",
       "  ((3, 'y', True), (3, 'y', False)),\n",
       "  ((3, 'z', True), (3, 'z', False))))"
      ]
     },
     "execution_count": 4,
     "metadata": {},
     "output_type": "execute_result"
    }
   ],
   "source": [
    "combo_runner(foo, combos)"
   ]
  },
  {
   "cell_type": "raw",
   "metadata": {
    "raw_mimetype": "text/restructuredtext"
   },
   "source": [
    "Note the progress bar shown. If the function was slower (generally the target case for ``xyzpy``), this would show the remaining time before completion.\n",
    "\n",
    "There is also :func:`~xyzpy.case_runner` for running isolated cases:"
   ]
  },
  {
   "cell_type": "code",
   "execution_count": 5,
   "metadata": {},
   "outputs": [
    {
     "name": "stderr",
     "output_type": "stream",
     "text": [
      "100%|##########| 2/2 [00:00<00:00, 471.93it/s]\n"
     ]
    },
    {
     "data": {
      "text/plain": [
       "((4, 'z', False), (5, 'y', True))"
      ]
     },
     "execution_count": 5,
     "metadata": {},
     "output_type": "execute_result"
    }
   ],
   "source": [
    "cases = [(4, 'z', False), (5, 'y', True)]\n",
    "case_runner(foo, fn_args=('a', 'b', 'c'), cases=cases)"
   ]
  },
  {
   "cell_type": "raw",
   "metadata": {
    "raw_mimetype": "text/restructuredtext"
   },
   "source": [
    "Alone, these are not super useful, but the rest of the functionality is built on them.\n",
    "\n",
    "\n",
    "Describing the function - ``Runner``\n",
    "------------------------------------\n",
    "\n",
    "To automatically put the generated data into a labelled :class:`xarray.Dataset` you need to describe your function using the :class:`~xyzpy.Runner` class. In the simplest case this is just a matter of naming the outputs:"
   ]
  },
  {
   "cell_type": "code",
   "execution_count": 6,
   "metadata": {},
   "outputs": [
    {
     "name": "stderr",
     "output_type": "stream",
     "text": [
      "100%|##########| 18/18 [00:00<00:00, 21024.08it/s]\n"
     ]
    },
    {
     "data": {
      "text/plain": [
       "<xarray.Dataset>\n",
       "Dimensions:  (a: 3, b: 3, c: 2)\n",
       "Coordinates:\n",
       "  * a        (a) int64 1 2 3\n",
       "  * b        (b) <U1 'x' 'y' 'z'\n",
       "  * c        (c) bool True False\n",
       "Data variables:\n",
       "    a_out    (a, b, c) int64 1 1 1 1 1 1 2 2 2 2 2 2 3 3 3 3 3 3\n",
       "    b_out    (a, b, c) <U1 'x' 'x' 'y' 'y' 'z' 'z' ... 'x' 'x' 'y' 'y' 'z' 'z'\n",
       "    c_out    (a, b, c) bool True False True False True ... True False True False"
      ]
     },
     "execution_count": 6,
     "metadata": {},
     "output_type": "execute_result"
    }
   ],
   "source": [
    "runner = Runner(foo, var_names=['a_out', 'b_out', 'c_out'])\n",
    "runner.run_combos(combos)"
   ]
  },
  {
   "cell_type": "raw",
   "metadata": {
    "raw_mimetype": "text/restructuredtext"
   },
   "source": [
    "The output dataset is also stored in ``runner.last_ds`` and, as can be seen, is completely labelled - see `xarray <https://xarray.pydata.org/>`__ for details of the myriad functionality this allows. See also the :ref:`Basic Output Example` for a more complete example.\n",
    "\n",
    ".. note::\n",
    "\n",
    "    As a convenience, :func:`~xyzpy.label` can be used to decorate a function, turning it\n",
    "    directly into a :class:`~xyzpy.Runner` like so:\n",
    "\n",
    "    .. code-block:: python\n",
    "\n",
    "        @label(var_names=['sum', 'diff'])\n",
    "        def foo(x, y):\n",
    "            return x + y, x - y\n",
    "\n",
    "\n",
    "Various other arguments to :class:`~xyzpy.Runner` allow: 1) constant arguments to be specified, 2) for each variable to have its own dimensions and 3) to specify the coordinates of those dimensions.\n",
    "For example, imagine we have a function ``bar`` with signature::\n",
    "\n",
    "    \"bar(i, j, k, t) -> (A, B[x], C[x, t])\"\n",
    "\n",
    "Maybe ``i, j, k`` index a location and ``t`` is a (constant) series of times to compute. There are 3 outputs: (i) the scalar ``A``, (ii) the vector ``B`` which has a dimension ``x`` with known coordinates, say ``[10, 20, 30]``, and (iii) the 2D-array ``C``, which shares the ``x`` dimension but also depends on ``t``. The arguments to :class:`~xyzpy.Runner` to describe this situation would be:"
   ]
  },
  {
   "cell_type": "code",
   "execution_count": 7,
   "metadata": {},
   "outputs": [],
   "source": [
    "var_names = ['A', 'B', 'C']\n",
    "var_dims = {'B': ['x'], 'C': ['x', 't']}\n",
    "var_coords = {'x': [10, 20, 30]}\n",
    "constants = {'t': np.linspace(0, 1, 101)}"
   ]
  },
  {
   "cell_type": "raw",
   "metadata": {
    "raw_mimetype": "text/restructuredtext"
   },
   "source": [
    "Note that ``'t'`` doesn't need to be specified in ``var_coords`` as it can be found in ``constants``. Let's explicitly mock a function with this signature and some combos to run:"
   ]
  },
  {
   "cell_type": "code",
   "execution_count": 8,
   "metadata": {},
   "outputs": [],
   "source": [
    "def bar(i, j, k, t):\n",
    "    A = np.random.rand()\n",
    "    B = np.random.rand(3)  # 'B[x]'\n",
    "    C = np.random.rand(3, len(t))  # 'C[x, t]'\n",
    "    return A, B, C\n",
    "\n",
    "# if we are using a runner, combos can be supplied as a dict\n",
    "combos = {\n",
    "    'i': [5, 6, 7],\n",
    "    'j': [0.5, 0.6, 0.7],\n",
    "    'k': [0.05, 0.06, 0.07],\n",
    "}"
   ]
  },
  {
   "cell_type": "markdown",
   "metadata": {},
   "source": [
    "We can then run the combos:"
   ]
  },
  {
   "cell_type": "code",
   "execution_count": 9,
   "metadata": {},
   "outputs": [
    {
     "name": "stderr",
     "output_type": "stream",
     "text": [
      "100%|##########| 27/27 [00:00<00:00, 3709.71it/s]\n"
     ]
    },
    {
     "data": {
      "text/plain": [
       "<xarray.Dataset>\n",
       "Dimensions:  (i: 3, j: 3, k: 3, t: 101, x: 3)\n",
       "Coordinates:\n",
       "  * i        (i) int64 5 6 7\n",
       "  * j        (j) float64 0.5 0.6 0.7\n",
       "  * k        (k) float64 0.05 0.06 0.07\n",
       "  * x        (x) int64 10 20 30\n",
       "  * t        (t) float64 0.0 0.01 0.02 0.03 0.04 ... 0.96 0.97 0.98 0.99 1.0\n",
       "Data variables:\n",
       "    A        (i, j, k) float64 0.2533 0.4152 0.2226 ... 0.5986 0.7464 0.7801\n",
       "    B        (i, j, k, x) float64 0.7641 0.2731 0.3556 ... 0.9066 0.2976 0.1442\n",
       "    C        (i, j, k, x, t) float64 0.7664 0.4964 0.08095 ... 0.281 0.8488"
      ]
     },
     "execution_count": 9,
     "metadata": {},
     "output_type": "execute_result"
    }
   ],
   "source": [
    "r = Runner(bar, constants=constants,\n",
    "           var_names=var_names,\n",
    "           var_coords=var_coords,\n",
    "           var_dims=var_dims)\n",
    "r.run_combos(combos)"
   ]
  },
  {
   "cell_type": "raw",
   "metadata": {
    "raw_mimetype": "text/restructuredtext"
   },
   "source": [
    "We can see the dimensions ``'i'``, ``'j'`` and ``'k'`` have been generated by the combos for all variables, as well as the 'internal' dimensions ``'x'`` and ``'t'`` only for ``'B'`` and ``'C'``. See also the :ref:`Structured Output with Julia Set Example` for a fuller demonstration.\n",
    "\n",
    "Finally, if the function itself returns a :class:`xarray.Dataset`, then just use ``var_names=None`` and all the outputs will be concatenated together automatically. The overhead this incurs is often negligible for anything but very fast functions.\n",
    "\n",
    "\n",
    "Aggregating data - ``Harvester``\n",
    "--------------------------------\n",
    "\n",
    "A common scenario when running simulations is the following:\n",
    "\n",
    "1. Generate some data\n",
    "2. Save it to disk\n",
    "3. Generate a different set of data (maybe after analysis of the first set)\n",
    "4. Load the old data\n",
    "5. Merge the new data with the old data\n",
    "6. Save the new combined data\n",
    "7. Repeat\n",
    "\n",
    "The aim of the :class:`~xyzpy.Harvester` is to automate that process. A :class:`~xyzpy.Harvester` is instantiated with a :class:`~xyzpy.Runner` instance and, optionally, a ``data_name``. If a ``data_name`` is given, then every time a round of combos/cases is generated, it will be automatically synced with a on-disk dataset of that name. Either way, the harvester will aggregate all runs into the ``full_ds`` attribute."
   ]
  },
  {
   "cell_type": "code",
   "execution_count": 10,
   "metadata": {},
   "outputs": [
    {
     "name": "stderr",
     "output_type": "stream",
     "text": [
      "100%|##########| 18/18 [00:00<00:00, 13503.39it/s]\n"
     ]
    }
   ],
   "source": [
    "combos = [\n",
    "    ('a', [1, 2, 3]),\n",
    "    ('b', ['x', 'y', 'z']),\n",
    "    ('c', [True, False]),\n",
    "]\n",
    "\n",
    "harvester = Harvester(runner, data_name='foo.h5')\n",
    "harvester.harvest_combos(combos)"
   ]
  },
  {
   "cell_type": "markdown",
   "metadata": {},
   "source": [
    "Which, because it didn't exist yet, created the file ``data_name``:"
   ]
  },
  {
   "cell_type": "code",
   "execution_count": 11,
   "metadata": {},
   "outputs": [
    {
     "name": "stdout",
     "output_type": "stream",
     "text": [
      "\u001b[0m\u001b[01;32mfoo.h5\u001b[0m*\n"
     ]
    }
   ],
   "source": [
    "ls *.h5"
   ]
  },
  {
   "cell_type": "raw",
   "metadata": {
    "raw_mimetype": "text/restructuredtext"
   },
   "source": [
    ":meth:`xyzpy.Harvester.harvest_combos` calls :meth:`xyzpy.Runner.run_combos` itself - this doesn't need to be done seperately.\n",
    "\n",
    "Now we can run a second set of different combos:"
   ]
  },
  {
   "cell_type": "code",
   "execution_count": 12,
   "metadata": {},
   "outputs": [
    {
     "name": "stderr",
     "output_type": "stream",
     "text": [
      "100%|##########| 12/12 [00:00<00:00, 1345.23it/s]\n"
     ]
    }
   ],
   "source": [
    "combos2 = {\n",
    "    'a': [4, 5, 6],\n",
    "    'b': ['w', 'v'],\n",
    "    'c': [True, False],\n",
    "}\n",
    "harvester.harvest_combos(combos2)"
   ]
  },
  {
   "cell_type": "markdown",
   "metadata": {},
   "source": [
    "Now we can check the total dataset containing all combos and cases run so far:"
   ]
  },
  {
   "cell_type": "code",
   "execution_count": 13,
   "metadata": {},
   "outputs": [
    {
     "data": {
      "text/plain": [
       "<xarray.Dataset>\n",
       "Dimensions:  (a: 6, b: 5, c: 2)\n",
       "Coordinates:\n",
       "  * a        (a) int64 1 2 3 4 5 6\n",
       "  * b        (b) object 'v' 'w' 'x' 'y' 'z'\n",
       "  * c        (c) bool True False\n",
       "Data variables:\n",
       "    a_out    (a, b, c) float64 nan nan nan nan 1.0 1.0 ... nan nan nan nan nan\n",
       "    b_out    (a, b, c) object nan nan nan nan 'x' 'x' ... nan nan nan nan nan\n",
       "    c_out    (a, b, c) float64 nan nan nan nan 1.0 0.0 ... nan nan nan nan nan"
      ]
     },
     "execution_count": 13,
     "metadata": {},
     "output_type": "execute_result"
    }
   ],
   "source": [
    "harvester.full_ds"
   ]
  },
  {
   "cell_type": "raw",
   "metadata": {
    "raw_mimetype": "text/restructuredtext"
   },
   "source": [
    "Note that, since the different runs were disjoint, missing values have automatically been filled in with ``nan`` values - see :func:`xarray.merge`. The on-disk dataset now contains both runs.\n",
    "\n",
    "\n",
    "Aggregating Random samples of data - ``Sampler``\n",
    "------------------------------------------------\n",
    "\n",
    "Occasionally, exhaustively iterating through all combinations of arguments is unneccesary. If instead you just want to sample the parameter space sparsely then the :class:`~xyzpy.Sampler` object allows this with much the same interface as a :class:`~xyzpy.Harvester`. The main difference is that, since the parameters are no longer gridded, the data is stored as a table in a\n",
    "``pandas.DataFrame``."
   ]
  },
  {
   "cell_type": "code",
   "execution_count": 14,
   "metadata": {},
   "outputs": [
    {
     "data": {
      "text/plain": [
       "<xyzpy.Sampler>\n",
       "Runner: <xyzpy.Runner>\n",
       "    fn: <function trig at 0x7f08fbd1e6a8>\n",
       "    fn_args: ('amp', 'fn', 'x', 'phase')\n",
       "    var_names: ('out',)\n",
       "    var_dims: {'out': ()}\n",
       "Sync file -->\n",
       "    trig.pkl    [pickle]"
      ]
     },
     "execution_count": 14,
     "metadata": {},
     "output_type": "execute_result"
    }
   ],
   "source": [
    "import math\n",
    "import random\n",
    "\n",
    "@label(var_names=['out'])\n",
    "def trig(amp, fn, x, phase):\n",
    "    return amp * getattr(math, fn)(x - phase)\n",
    "\n",
    "# these are the default combos/distributions to sample from\n",
    "default_combos = {\n",
    "    'amp': [1, 2, 3],\n",
    "    'fn': ['cos', 'sin'],\n",
    "    # for distributions we can supply callables\n",
    "    'x': lambda: 2 * math.pi * random.random(),\n",
    "    'phase': lambda: random.gauss(0.0, 0.1),\n",
    "}\n",
    "\n",
    "sampler = Sampler(trig, 'trig.pkl', default_combos)\n",
    "sampler"
   ]
  },
  {
   "cell_type": "markdown",
   "metadata": {},
   "source": [
    "Now we can run the sampler many times (and supply any of the usual arguments such as ``parallel=True`` etc). This generates a ``pandas.DataFrame``:"
   ]
  },
  {
   "cell_type": "code",
   "execution_count": 15,
   "metadata": {},
   "outputs": [
    {
     "name": "stderr",
     "output_type": "stream",
     "text": [
      "100%|##########| 10000/10000 [00:00<00:00, 37195.81it/s]\n"
     ]
    }
   ],
   "source": [
    "sampler.sample_combos(10000);"
   ]
  },
  {
   "cell_type": "markdown",
   "metadata": {},
   "source": [
    "This has also synced the data with the on-disk file:"
   ]
  },
  {
   "cell_type": "code",
   "execution_count": 16,
   "metadata": {},
   "outputs": [
    {
     "name": "stdout",
     "output_type": "stream",
     "text": [
      "trig.pkl\n"
     ]
    }
   ],
   "source": [
    "!ls *.pkl"
   ]
  },
  {
   "cell_type": "markdown",
   "metadata": {},
   "source": [
    "You can specify ``Sampler(..., engine='csv')`` etc to use formats other than ``pickle``."
   ]
  },
  {
   "cell_type": "markdown",
   "metadata": {},
   "source": [
    "As with the ``Harvester``, next time we run combinations, the data is automatically\n",
    "aggregated into the full set:"
   ]
  },
  {
   "cell_type": "code",
   "execution_count": 17,
   "metadata": {},
   "outputs": [
    {
     "name": "stderr",
     "output_type": "stream",
     "text": [
      "100%|##########| 5000/5000 [00:00<00:00, 64517.83it/s]\n"
     ]
    }
   ],
   "source": [
    "# here we will override some of the default sampling choices\n",
    "combos = {\n",
    "    'fn': ['tan'],\n",
    "    'x': lambda: random.random() * math.pi / 4\n",
    "}\n",
    "\n",
    "sampler.sample_combos(5000, combos);"
   ]
  },
  {
   "cell_type": "raw",
   "metadata": {
    "raw_mimetype": "text/restructuredtext"
   },
   "source": [
    "We can then use tools such as `seaborn <https://seaborn.pydata.org/>`_ to visualize the full data:"
   ]
  },
  {
   "cell_type": "code",
   "execution_count": 18,
   "metadata": {},
   "outputs": [
    {
     "data": {
      "text/plain": [
       "<seaborn.axisgrid.FacetGrid at 0x7f08f92c31d0>"
      ]
     },
     "execution_count": 18,
     "metadata": {},
     "output_type": "execute_result"
    },
    {
     "data": {
      "image/png": "[encoded data removed]",
      "text/plain": [
       "<Figure size 418x360 with 1 Axes>"
      ]
     },
     "metadata": {
      "needs_background": "light"
     },
     "output_type": "display_data"
    }
   ],
   "source": [
    "import seaborn as sns\n",
    "\n",
    "sns.relplot(x='x', y='out', hue='fn', size='amp', data=sampler.full_df)"
   ]
  },
  {
   "cell_type": "raw",
   "metadata": {
    "raw_mimetype": "text/restructuredtext"
   },
   "source": [
    "Summary\n",
    "-------\n",
    "\n",
    "  1. :func:`~xyzpy.combo_runner` is the core function which outputs a nested tuple and contains the parallelization logic and progress display etc.\n",
    "\n",
    "  2. :class:`~xyzpy.Runner` and :meth:`xyzpy.Runner.run_combos` are used to describe the function's output and perform a single set of runs yielding a :class:`~xarray.Dataset`. These internally call :func:`~xyzpy.combo_runner`.\n",
    "\n",
    "  3. :class:`~xyzpy.Harvester` and :meth:`xyzpy.Harvester.harvest_combos` are used to perform many sets of runs, continuously merging the results into one larger :class:`~xarray.Dataset` - ``Harvester.full_ds``, probably synced to disk. These internally call :meth:`xyzpy.Runner.run_combos`.\n",
    "  \n",
    "  4. :class:`~xyzpy.Sampler` and :meth:`xyzpy.Sampler.sample_combos` are used to sparsely sample \n",
    "     from parameter combinations. Unlike a normal ``Harvester``, the data is aggregated \n",
    "     automatically into a ``pandas.DataFrame``.\n",
    "\n",
    "In general, you would only generate data with one of these methods at once - see the full demonstrations in :ref:`Examples`."
   ]
  },
  {
   "cell_type": "code",
   "execution_count": 19,
   "metadata": {},
   "outputs": [],
   "source": [
    "# some cleanup\n",
    "harvester.delete_ds()\n",
    "sampler.delete_df()"
   ]
  }
 ],
 "metadata": {
  "kernelspec": {
   "display_name": "Python 3",
   "language": "python",
   "name": "python3"
  },
  "language_info": {
   "codemirror_mode": {
    "name": "ipython",
    "version": 3
   },
   "file_extension": ".py",
   "mimetype": "text/x-python",
   "name": "python",
   "nbconvert_exporter": "python",
   "pygments_lexer": "ipython3",
   "version": "3.6.6"
  }
 },
 "nbformat": 4,
 "nbformat_minor": 2
}
